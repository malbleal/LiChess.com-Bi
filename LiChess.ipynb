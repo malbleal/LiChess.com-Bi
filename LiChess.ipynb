{
 "cells": [
  {
   "cell_type": "code",
   "execution_count": null,
   "metadata": {},
   "outputs": [],
   "source": [
    "import numpy as np\n",
    "import pandas as pd\n",
    "import matplotlib.pyplot as plt\n",
    "import seaborn as sn"
   ]
  },
  {
   "cell_type": "code",
   "execution_count": null,
   "metadata": {},
   "outputs": [],
   "source": [
    "df = pd.read_csv('games.csv')"
   ]
  },
  {
   "cell_type": "code",
   "execution_count": null,
   "metadata": {},
   "outputs": [],
   "source": [
    "df.describe()"
   ]
  },
  {
   "cell_type": "code",
   "execution_count": null,
   "metadata": {},
   "outputs": [],
   "source": [
    "df.drop(columns='moves').head()"
   ]
  },
  {
   "cell_type": "code",
   "execution_count": null,
   "metadata": {},
   "outputs": [],
   "source": [
    "df.dtypes"
   ]
  },
  {
   "cell_type": "code",
   "execution_count": null,
   "metadata": {},
   "outputs": [],
   "source": [
    "'''\n",
    "Esse trecho de código transforma a coluna de tempo que nesse dataset está \n",
    "em 'unix' para 'datatime' e também importa para CSV o resultado.\n",
    "'''\n",
    "\n",
    "df_times = df[['id', 'created_at', 'last_move_at']].copy()\n",
    "\n",
    "df_times['created_at_dt'] = pd.to_datetime(df_times['created_at']/1000, unit='s', origin='unix')\n",
    "\n",
    "df_times['last_move_at_dt'] = pd.to_datetime(df_times['last_move_at']/1000, unit='s', origin='unix')\n",
    "\n",
    "df_result = pd.merge(df, df_times[['id', 'created_at_dt', 'last_move_at_dt']], on='id')\n",
    "\n",
    "df_result.to_csv('game_completo.csv', index=False)\n",
    "\n",
    "#df_result"
   ]
  },
  {
   "cell_type": "code",
   "execution_count": null,
   "metadata": {},
   "outputs": [],
   "source": [
    "'''\n",
    "Esse código nos mostra qual a abertura mais praticada.\n",
    "\n",
    "## Queria entender porque essa forma não funciona. ##\n",
    "mpo = df[['opening_eco']].groupby(by='opening_eco').agg('count').reset_index().head(10)\n",
    "mpo = mpo.rename(columns={'id': 'count'})\n",
    "mpo\n",
    "\n",
    "'''\n",
    "\n",
    "most_played_openings = (\n",
    "                        df.drop(columns=['rated', 'created_at', \n",
    "                        'last_move_at', 'turns', 'victory_status',\n",
    "                        'winner', 'increment_code', 'white_id', 'white_rating',\n",
    "                        'black_id', 'black_rating', 'moves', 'opening_name', 'opening_ply'])\n",
    "                        .groupby(by='opening_eco')\n",
    "                        .agg('count')\n",
    "                        .reset_index()\n",
    "                        .rename(columns={'id': 'count', 'opening_eco': 'abertura'})\n",
    "                        .sort_values(by='count', ascending=False)\n",
    "                        .reset_index(drop=True)\n",
    "                        )\n",
    "\n",
    "# Rank das 10 aberturas mais praticadas.\n",
    "rank_abertura_pop = most_played_openings.sort_values(by='count', ascending=False).reset_index(drop=True).head(10)\n",
    "print(f'Rank das 10 aberturas mais praticadas:\\n{rank_abertura_pop}')\n",
    "\n",
    "plt.bar(rank_abertura_pop['abertura'], height=rank_abertura_pop['count'])"
   ]
  },
  {
   "cell_type": "code",
   "execution_count": null,
   "metadata": {},
   "outputs": [],
   "source": [
    "# Número de partidas por usuário (peças brancas e pretas)\n",
    "\n",
    "'''\n",
    "#Verificando o número de partidas por usuário\n",
    "partidas_jogadas_white = df['white_id'].value_counts()\n",
    "partidas_jogadas_black = df['black_id'].value_counts()\n",
    "\n",
    "# Verificando o número de partidas por usuário 'white'\n",
    "partidas_jogadas_white = df['white_id'].value_counts()\n",
    "\n",
    "# Verificando o número de partidas por usuário 'black'\n",
    "partidas_jogadas_black = df['black_id'].value_counts()\n",
    "\n",
    "# Somando as colunas\n",
    "partidas_jogadas = partidas_jogadas_white.add(partidas_jogadas_black, fill_value=0).sort_values(ascending=False)  \n",
    "\n",
    "# Uma mascara foi posta nos dados para minimizar as partidas que são jogadas por bots.\n",
    "m3 = partidas_jogadas >=3\n",
    "pj = partidas_jogadas[m3].head(20)\n",
    "\n",
    "pj\n",
    "# V1 do código abaixo\n",
    "'''\n",
    "\n",
    "partidas_jogadas_white = df.drop(columns=['rated', 'created_at', \n",
    "                                        'last_move_at', 'victory_status',\n",
    "                                        'increment_code', 'id', 'winner', 'turns', 'opening_eco',\n",
    "                                        'black_id', 'black_rating', 'moves', 'opening_name', 'opening_ply'])\n",
    "partidas_jogadas_white.rename(columns={'white_id': 'nickname', 'white_rating': 'rating'})\n",
    "\n",
    "partidas_jogadas_black = df.drop(columns=['rated', 'created_at', \n",
    "                                        'last_move_at', 'victory_status',\n",
    "                                        'increment_code', 'id', 'winner', 'turns', 'opening_eco',\n",
    "                                        'white_id', 'white_rating', 'moves', 'opening_name', 'opening_ply'])\n",
    "partidas_jogadas_black.rename(columns={'black_id': 'nickname', 'black_rating': 'rating'})\n",
    "\n",
    "partidas_jogadas_black = partidas_jogadas_black.rename(columns={'black_id': 'nickname', 'black_rating': 'rating'})\n",
    "partidas_jogadas_white = partidas_jogadas_white.rename(columns={'white_id': 'nickname', 'white_rating': 'rating'})\n",
    "\n",
    "b_w = pd.concat([partidas_jogadas_white, partidas_jogadas_black], ignore_index=True)\n",
    "b_w['qnt_partidas'] = b_w.groupby('nickname')['nickname'].transform('count')\n",
    "b_w.sort_values(by='qnt_partidas', ascending=False)\n",
    "\n",
    "# Fazendo a média do 'rating' do jogador.\n",
    "b_w['rating'] = b_w.groupby('nickname')['rating'].transform('mean').astype(int)\n",
    "\n",
    "# Removendo duplicatas\n",
    "b_w = b_w.drop_duplicates(subset='nickname')\n",
    "\n",
    "# Ordenando o DataFrame pela coluna 'qnt_partidas' em ordem decrescente\n",
    "b_w_ordenado = b_w.sort_values(by='qnt_partidas', ascending=False).reset_index(drop=True)\n",
    "\n",
    "# Uma mascara foi posta nos dados para minimizar as partidas que são jogadas por bots.\n",
    "m4 = b_w_ordenado['qnt_partidas'] >= 3\n",
    "b_w_ordenado[m4] \n",
    "\n",
    "# Rank das 10 pessoas com mais partidas.\n",
    "x = b_w_ordenado.head(10)\n",
    "print(f'Rank das 10 pessoas com mais partidas:\\n{x}\\n')\n",
    "\n",
    "# Rank das 10 pessoas com mais rating.\n",
    "x = b_w_ordenado[m4].sort_values(by='rating', ascending=False).head(10).reset_index(drop=True)\n",
    "print(f'Rank das 10 pessoas com mais rating:\\n{x}')\n"
   ]
  },
  {
   "cell_type": "code",
   "execution_count": null,
   "metadata": {},
   "outputs": [],
   "source": [
    "# Tentativa de vizualização dos dados em Gráfico. O nome fica embaralhado..\n",
    "plt.bar(b_w_ordenado['nickname'].head(10), height= b_w_ordenado['qnt_partidas'].head(10))"
   ]
  },
  {
   "cell_type": "code",
   "execution_count": null,
   "metadata": {},
   "outputs": [],
   "source": [
    "# Quantas partidas terminaram empatadas, por xeque mate, por tempo ou por desistência?]\n",
    "\n",
    "df.groupby(['victory_status']).size()"
   ]
  },
  {
   "cell_type": "code",
   "execution_count": null,
   "metadata": {},
   "outputs": [],
   "source": [
    "# Qual cor tem maior taxa de vitória por xeque mate, por tempo e por desistência?\n",
    "\n",
    "num_vitoria = df.groupby(['victory_status', 'winner']).size()\n",
    "\n",
    "print(f'Legenda:\\n{num_vitoria}')\n",
    "\n",
    "num_vitoria.unstack().plot(kind='bar', stacked=True, colormap='viridis')\n",
    "plt.title('Distribuição de Resultados por Estado de Vitória e Vencedor')\n",
    "plt.xlabel('Tipo de Vitória')\n",
    "plt.ylabel('Número de Jogos')\n",
    "plt.show()\n",
    "\n",
    "# Ainda existe uma parte de 'draw' em 'outoftime', mas isso ocorre por conta de uma regra do xadrez."
   ]
  },
  {
   "cell_type": "code",
   "execution_count": null,
   "metadata": {},
   "outputs": [],
   "source": [
    "# Qual a porcentagem de vitórias por cor?\n",
    "\n",
    "x = df[['winner', 'victory_status']]\n",
    "\n",
    "m5 = (x['victory_status'] != 'draw') & (x['winner'] != 'draw')\n",
    "x[m5].value_counts(normalize=True).apply(lambda x: f'{x*100:.2f}%')\n",
    "\n",
    "# Agrupando o resultado por 'winner'\n",
    "percentagem = (x[m5]\n",
    "                    .groupby('winner')['victory_status']\n",
    "                    .value_counts(normalize=True)\n",
    "                    .unstack()\n",
    "                    .map(lambda x: f'{x*100:.2f}%')\n",
    "                  )\n",
    "\n",
    "print(percentagem)\n"
    sns.countplot(x='winner', data=df)
    plt.title('Numero de Vitorias por Cor')
    plt.show()
   ]
  }
 ],
 "metadata": {
  "kernelspec": {
   "display_name": "Python 3",
   "language": "python",
   "name": "python3"
  },
  "language_info": {
   "codemirror_mode": {
    "name": "ipython",
    "version": 3
   },
   "file_extension": ".py",
   "mimetype": "text/x-python",
   "name": "python",
   "nbconvert_exporter": "python",
   "pygments_lexer": "ipython3",
   "version": "3.11.4"
  }
 },
 "nbformat": 4,
 "nbformat_minor": 2
}
